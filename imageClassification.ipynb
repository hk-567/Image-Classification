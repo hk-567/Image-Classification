{
  "cells": [
    {
      "cell_type": "code",
      "execution_count": null,
      "metadata": {
        "id": "lbUyc__YVYir"
      },
      "outputs": [],
      "source": [
        "import tensorflow as tf\n",
        "from tensorflow import keras\n",
        "from keras.models import Sequential\n",
        "from keras.layers import Dense,Flatten,Conv2D, MaxPooling2D, Dropout\n",
        "from tensorflow.keras import layers\n",
        "from tensorflow.keras.utils import to_categorical\n",
        "import numpy as np\n",
        "import matplotlib.pyplot as plt\n",
        "plt.style.use('fivethirtyeight')"
      ]
    },
    {
      "cell_type": "code",
      "execution_count": null,
      "metadata": {
        "colab": {
          "base_uri": "https://localhost:8080/"
        },
        "id": "XMO4ZsfzYC5T",
        "outputId": "db93577b-de9c-453a-c12a-b7a370fa5e53"
      },
      "outputs": [
        {
          "output_type": "stream",
          "name": "stdout",
          "text": [
            "Downloading data from https://www.cs.toronto.edu/~kriz/cifar-10-python.tar.gz\n",
            "170498071/170498071 [==============================] - 6s 0us/step\n"
          ]
        }
      ],
      "source": [
        "from keras.datasets import cifar10\n",
        "(x_train, y_train),(x_test, y_test) = cifar10.load_data() #gets dataset\n"
      ]
    },
    {
      "cell_type": "code",
      "execution_count": null,
      "metadata": {
        "colab": {
          "base_uri": "https://localhost:8080/",
          "height": 486
        },
        "id": "ow_mD1a0ZT2N",
        "outputId": "ada5e600-0da3-4130-b968-f5eeb9a26e24"
      },
      "outputs": [
        {
          "output_type": "stream",
          "name": "stdout",
          "text": [
            "Image label is:  [6]\n",
            "Image class is:  frog\n"
          ]
        },
        {
          "output_type": "display_data",
          "data": {
            "text/plain": [
              "<Figure size 640x480 with 1 Axes>"
            ],
            "image/png": "[encoded data removed]"
          },
          "metadata": {}
        }
      ],
      "source": [
        "index = 0\n",
        "img = plt.imshow(x_train[index])\n",
        "print ('Image label is: ', y_train[index]) #prints image and class\n",
        "classification = ['airplane','car','bird','cat', 'deer','dog','frog', 'horse','ship','truck']\n",
        "print('Image class is: ', classification[y_train[index][0]])"
      ]
    },
    {
      "cell_type": "code",
      "execution_count": null,
      "metadata": {
        "colab": {
          "base_uri": "https://localhost:8080/"
        },
        "id": "oa1uPrG3ahbl",
        "outputId": "cc5ef101-4470-434c-dd9d-b0bd3f15c707"
      },
      "outputs": [
        {
          "output_type": "stream",
          "name": "stdout",
          "text": [
            "[[0. 0. 0. ... 0. 0. 0.]\n",
            " [0. 0. 0. ... 0. 0. 1.]\n",
            " [0. 0. 0. ... 0. 0. 1.]\n",
            " ...\n",
            " [0. 0. 0. ... 0. 0. 1.]\n",
            " [0. 1. 0. ... 0. 0. 0.]\n",
            " [0. 1. 0. ... 0. 0. 0.]]\n",
            "one hot label is: \n"
          ]
        }
      ],
      "source": [
        "y_train_one_hot = to_categorical(y_train)\n",
        "y_test_one_hot = to_categorical(y_test)\n",
        "print(y_train_one_hot)\n",
        "print('one hot label is: ',)"
      ]
    },
    {
      "cell_type": "code",
      "execution_count": null,
      "metadata": {
        "id": "LD7UX16obNdE"
      },
      "outputs": [],
      "source": [
        "#normalise pixels to 0 and 1 values\n",
        "x_train = x_train/255\n",
        "x_test = x_test/255\n"
      ]
    },
    {
      "cell_type": "code",
      "execution_count": null,
      "metadata": {
        "id": "5b2Jm5pMbf5Z"
      },
      "outputs": [],
      "source": [
        "#create model\n",
        "model = Sequential()\n",
        "#first convolution layer\n",
        "model.add(Conv2D(32, (5,5),activation = 'relu', input_shape = (32,32,3)))\n",
        "#pooling layer\n",
        "model.add(MaxPooling2D(pool_size =(2,2)))\n",
        "#second convolution\n",
        "model.add(Conv2D(32,(5,5), activation = 'relu'))\n",
        "#pooling layer\n",
        "model.add(MaxPooling2D(pool_size =(2,2)))\n",
        "#flattening layer\n",
        "model.add(Flatten())\n",
        "#layer with 100 neurons\n",
        "model.add(Dense(1000, activation = 'relu'))\n",
        "#dropout layer with 50% dropout\n",
        "model.add(Dropout(0.5))\n",
        "#500 neurons\n",
        "model.add(Dense(500, activation ='relu'))\n",
        "#dropout layer\n",
        "model.add(Dropout(0.5))\n",
        "#250 neurons\n",
        "model.add(Dense(250, activation ='relu'))\n",
        "#10 neurons (10 categories)\n",
        "model.add(Dense(10, activation='softmax'))\n",
        "\n",
        "\n"
      ]
    },
    {
      "cell_type": "code",
      "execution_count": null,
      "metadata": {
        "id": "Wq3cpryBZCmW"
      },
      "outputs": [],
      "source": [
        "model.compile(loss='categorical_crossentropy',\n",
        "              optimizer = 'adam',\n",
        "              metrics = ['accuracy'])"
      ]
    },
    {
      "cell_type": "code",
      "execution_count": null,
      "metadata": {
        "colab": {
          "base_uri": "https://localhost:8080/"
        },
        "id": "vRiRNtntZp0b",
        "outputId": "7bfc71b1-2a6a-426e-8cc8-36032fa8b916"
      },
      "outputs": [
        {
          "output_type": "stream",
          "name": "stdout",
          "text": [
            "Epoch 1/10\n",
            "  6/157 [>.............................] - ETA: 1:01 - loss: 2.3054 - accuracy: 0.0964"
          ]
        }
      ],
      "source": [
        "#train the model\n",
        "hist = model.fit(x_train, y_train_one_hot,\n",
        "                 batch_size = 256,\n",
        "                 epochs = 10,\n",
        "                 validation_split = 0.2)"
      ]
    },
    {
      "cell_type": "code",
      "execution_count": null,
      "metadata": {
        "id": "0qNjDT7Qdq4k"
      },
      "outputs": [],
      "source": [
        "model.evaluate(x_test,y_test_one_hot)[1]"
      ]
    },
    {
      "cell_type": "code",
      "execution_count": null,
      "metadata": {
        "id": "l1w2QrOfd5B8"
      },
      "outputs": [],
      "source": [
        "plt.plot(hist.history['accuracy'])\n",
        "plt.plot(hist.history['val_accuracy'])\n",
        "plt.title('Model Accuracy Visualidatrion')\n",
        "plt.ylabel('accuracy')\n",
        "plt.xlabel('epoch')\n",
        "plt.legend(['Train', 'Val'], loc = 'upper left')\n",
        "plt.show()"
      ]
    },
    {
      "cell_type": "code",
      "execution_count": null,
      "metadata": {
        "colab": {
          "background_save": true
        },
        "id": "XMKRldYHep2r"
      },
      "outputs": [],
      "source": [
        "from google.colab import files\n",
        "uploaded = files.upload()"
      ]
    },
    {
      "cell_type": "code",
      "execution_count": null,
      "metadata": {
        "id": "3pVmB4Faf8lw"
      },
      "outputs": [],
      "source": [
        "new_image = plt.imread('unnamed.jpeg')\n",
        "from skimage.transform import resize\n",
        "resized_image = resize(new_image, (32,32,3))\n",
        "img = plt.imshow(resized_image)"
      ]
    },
    {
      "cell_type": "code",
      "execution_count": null,
      "metadata": {
        "id": "59Rm3UUMhEe-"
      },
      "outputs": [],
      "source": [
        "predictions = model.predict(np.array([resized_image]))\n",
        "list_index = [0,1,2,3,4,5,6,7,8,9]\n",
        "x = predictions\n",
        "\n",
        "for i in range (10):\n",
        "  for j in range (10):\n",
        "    if x [0][list_index[i]]> x[0][list_index[j]]:\n",
        "      temp = list_index[i]\n",
        "      list_index[i] = list_index[j]\n",
        "      list_index[j]=temp\n",
        "\n",
        "print(list_index)\n",
        "\n",
        "for i in range(5):\n",
        "  print(classification[list_index[i]],':', round(predictions[0][list_index[i]]*100,2))"
      ]
    }
  ],
  "metadata": {
    "colab": {
      "provenance": []
    },
    "kernelspec": {
      "display_name": "Python 3",
      "name": "python3"
    },
    "language_info": {
      "name": "python"
    }
  },
  "nbformat": 4,
  "nbformat_minor": 0
}